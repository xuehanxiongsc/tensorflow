{
 "cells": [
  {
   "cell_type": "code",
   "execution_count": 1,
   "metadata": {
    "collapsed": true
   },
   "outputs": [],
   "source": [
    "import tensorflow as tf\n",
    "import numpy as np\n",
    "slim = tf.contrib.slim"
   ]
  },
  {
   "cell_type": "code",
   "execution_count": 2,
   "metadata": {
    "collapsed": false
   },
   "outputs": [],
   "source": [
    "SEED = None\n",
    "WEIGHT_DECAY = 0.00001\n",
    "tf.app.flags.DEFINE_boolean('use_fp16', False,\n",
    "                            \"Use half floats instead of full floats if True.\")\n",
    "FLAGS = tf.app.flags.FLAGS"
   ]
  },
  {
   "cell_type": "code",
   "execution_count": 3,
   "metadata": {
    "collapsed": false
   },
   "outputs": [],
   "source": [
    "def data_type():\n",
    "    \"\"\"Return the type of the activations, weights, and placeholder variables.\"\"\"\n",
    "    if FLAGS.use_fp16:\n",
    "        return tf.float16\n",
    "    else:\n",
    "        return tf.float32\n",
    "\n",
    "def inference(images):\n",
    "    \"\"\"Build a segmentation model.\n",
    "    Args:\n",
    "        images: Images returned from distorted_inputs() or inputs().\n",
    "    Returns:\n",
    "        Logits.\n",
    "    \"\"\"    \n",
    "    batch_norm_params = {\n",
    "        # Decay for the moving averages.\n",
    "        'decay': 0.9997,\n",
    "        # epsilon to prevent 0s in variance.\n",
    "        'epsilon': 0.001,\n",
    "        # collection containing update_ops.\n",
    "        'updates_collections': tf.GraphKeys.UPDATE_OPS,\n",
    "        # collection containing the moving mean and moving variance.\n",
    "        'variables_collections': {\n",
    "            'beta': None,\n",
    "            'gamma': None,\n",
    "            'moving_mean': ['moving_vars'],\n",
    "            'moving_variance': ['moving_vars'],\n",
    "        }\n",
    "    }\n",
    "\n",
    "    with slim.arg_scope([slim.conv2d], padding='SAME',\n",
    "                        weights_initializer=tf.truncated_normal_initializer(stddev=0.01),\n",
    "                        weights_regularizer=slim.l2_regularizer(WEIGHT_DECAY),\n",
    "                        normalizer_fn=slim.batch_norm, # apply batchnorm after each conv layer\n",
    "                        normalizer_params=batch_norm_params):\n",
    "        \n",
    "        net = slim.conv2d(images, 8, [3, 3], scope='conv1')\n",
    "        net = slim.max_pool2d(net, [2, 2], scope='pool1')\n",
    "        \n",
    "        net = slim.conv2d(net, 16, [3, 3], scope='conv2')\n",
    "        net = slim.max_pool2d(net, [2, 2], scope='pool2')\n",
    "        \n",
    "        net = slim.conv2d(net, 32, [3, 3], scope='conv3')\n",
    "        net = slim.max_pool2d(net, [2, 2], scope='pool3')    \n",
    "\n",
    "        net = slim.conv2d(net, 64, [3, 3], scope='conv4')\n",
    "        net = slim.conv2d(net, 64, [3, 3], scope='conv5')\n",
    "        net = slim.conv2d(net, 128, [3, 3], scope='conv6')\n",
    "        \n",
    "        net = slim.conv2d(net, 4, [1, 1], scope='fc')\n",
    "    \n",
    "    net = slim.conv2d_transpose(net, 4, [16, 16], 8, \n",
    "                                weights_initializer=tf.truncated_normal_initializer(stddev=0.01),\n",
    "                                biases_initializer=None,\n",
    "                                activation_fn=None,\n",
    "                                padding='VALID',\n",
    "                                scope='deconv')\n",
    "    return net\n",
    "\n",
    "def loss_and_accuracy(logits, labels):\n",
    "    \"\"\"Add L2Loss to all the trainable variables.\n",
    "    Add summary for \"Loss\" and \"Loss/avg\".\n",
    "    Args:\n",
    "        logits: Logits from inference().\n",
    "        labels: Labels from distorted_inputs or inputs().\n",
    "    Returns:\n",
    "        Loss tensor of type float.\n",
    "    \"\"\"\n",
    "    # Calculate the average cross entropy loss across the batch.\n",
    "    logits_shape = logits.get_shape().as_list()\n",
    "    label_shape = labels.get_shape().as_list()\n",
    "    height = label_shape[1]\n",
    "    width  = label_shape[2]\n",
    "    num_classes = logits_shape[3]\n",
    "    predictions = tf.slice(logits,[0,8,8,0],[label_shape[0],height,width,num_classes],name='crop')\n",
    "    labels = tf.cast(labels, tf.int32)\n",
    "    cross_entropy = tf.nn.sparse_softmax_cross_entropy_with_logits(predictions, labels)\n",
    "    cross_entropy_mean = tf.reduce_mean(cross_entropy, name='cross_entropy')\n",
    "    tf.add_to_collection('losses', cross_entropy_mean)\n",
    "    \n",
    "    _,indices = tf.nn.top_k(predictions, k=1, sorted=False)\n",
    "    squeezed_indices = tf.squeeze(indices)\n",
    "    acc = tf.contrib.metrics.accuracy(squeezed_indices,labels)\n",
    "    tf.scalar_summary('accuracy', acc)\n",
    "    # The total loss is defined as the cross entropy loss plus all of the weight\n",
    "    # decay terms (L2 loss).\n",
    "    return tf.add_n(tf.get_collection('losses'), name='total_loss'),acc\n"
   ]
  },
  {
   "cell_type": "code",
   "execution_count": null,
   "metadata": {
    "collapsed": true
   },
   "outputs": [],
   "source": []
  }
 ],
 "metadata": {
  "kernelspec": {
   "display_name": "Python 2",
   "language": "python",
   "name": "python2"
  },
  "language_info": {
   "codemirror_mode": {
    "name": "ipython",
    "version": 2
   },
   "file_extension": ".py",
   "mimetype": "text/x-python",
   "name": "python",
   "nbconvert_exporter": "python",
   "pygments_lexer": "ipython2",
   "version": "2.7.12"
  }
 },
 "nbformat": 4,
 "nbformat_minor": 1
}
