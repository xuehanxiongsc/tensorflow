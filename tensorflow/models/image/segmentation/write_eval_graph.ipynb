{
 "cells": [
  {
   "cell_type": "code",
   "execution_count": null,
   "metadata": {
    "collapsed": true
   },
   "outputs": [],
   "source": [
    "import tensorflow as tf\n",
    "import segmentation_model\n",
    "\n",
    "FLAGS = tf.app.flags.FLAGS\n",
    "tf.app.flags.DEFINE_string('checkpoint_dir', '',\n",
    "                           \"\"\"Path to checkpoint file.\"\"\")\n",
    "tf.app.flags.DEFINE_string('output_graph_file', 'graph.pbtxt',\n",
    "                           \"\"\"Output graph filename.\"\"\")\n",
    "\n",
    "def main(unused_args):\n",
    "    with tf.Graph().as_default():\n",
    "        image_placeholder = tf.placeholder(tf.float32, shape=(None,None,None,3))\n",
    "        logits = segmentation_model.inference(image_placeholder)\n",
    "        saver = tf.train.Saver()\n",
    "        with tf.Session() as sess:\n",
    "            ckpt = tf.train.get_checkpoint_state(FLAGS.checkpoint_dir)\n",
    "            if ckpt and ckpt.model_checkpoint_path:\n",
    "                # Restores from checkpoint\n",
    "                print('Resotring checkpoint %s' % ckpt.model_checkpoint_path)\n",
    "                saver.restore(sess, ckpt.model_checkpoint_path)\n",
    "            else:\n",
    "                print('No checkpoint file found')\n",
    "            tf.train.write_graph(sess.graph_def, FLAGS.checkpoint_dir, FLAGS.output_graph_file)\n",
    "        \n",
    "if __name__ == \"__main__\":\n",
    "    tf.app.run()"
   ]
  }
 ],
 "metadata": {
  "kernelspec": {
   "display_name": "Python 2",
   "language": "python",
   "name": "python2"
  },
  "language_info": {
   "codemirror_mode": {
    "name": "ipython",
    "version": 2
   },
   "file_extension": ".py",
   "mimetype": "text/x-python",
   "name": "python",
   "nbconvert_exporter": "python",
   "pygments_lexer": "ipython2",
   "version": "2.7.12"
  }
 },
 "nbformat": 4,
 "nbformat_minor": 1
}
