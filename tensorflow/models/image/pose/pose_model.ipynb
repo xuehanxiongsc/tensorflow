{
 "cells": [
  {
   "cell_type": "code",
   "execution_count": 1,
   "metadata": {
    "collapsed": false
   },
   "outputs": [
    {
     "name": "stderr",
     "output_type": "stream",
     "text": [
      "/usr/local/lib/python2.7/site-packages/matplotlib/font_manager.py:273: UserWarning: Matplotlib is building the font cache using fc-list. This may take a moment.\n",
      "  warnings.warn('Matplotlib is building the font cache using fc-list. This may take a moment.')\n"
     ]
    }
   ],
   "source": [
    "import tensorflow as tf\n",
    "import os\n",
    "import numpy as np\n",
    "import cv2\n",
    "import pose_input\n",
    "\n",
    "slim = tf.contrib.slim"
   ]
  },
  {
   "cell_type": "code",
   "execution_count": 2,
   "metadata": {
    "collapsed": true
   },
   "outputs": [],
   "source": [
    "LABEL_SIZE = 46\n",
    "\n",
    "batch_norm_params = {\n",
    "    # Decay for the moving averages.\n",
    "    'decay': 0.9997,\n",
    "    # epsilon to prevent 0s in variance.\n",
    "    'epsilon': 0.001,\n",
    "    # collection containing update_ops.\n",
    "    'updates_collections': tf.GraphKeys.UPDATE_OPS,\n",
    "    # collection containing the moving mean and moving variance.\n",
    "    'variables_collections': {\n",
    "        'beta': None,\n",
    "        'gamma': None,\n",
    "        'moving_mean': ['moving_vars'],\n",
    "        'moving_variance': ['moving_vars'],\n",
    "    }\n",
    "}\n",
    "\n",
    "def inference(images,weight_decay,reuse=None):\n",
    "    \"\"\"Build a human pose model.\n",
    "    Args:\n",
    "        images: Images returned from distorted_inputs() or inputs().\n",
    "    Returns:\n",
    "        Logits.\n",
    "    \"\"\"\n",
    "    with slim.arg_scope([slim.conv2d], padding='SAME',\n",
    "                        weights_initializer=tf.truncated_normal_initializer(stddev=0.01),\n",
    "                        weights_regularizer=slim.l2_regularizer(weight_decay),\n",
    "                        normalizer_fn=slim.batch_norm, # apply batchnorm after each conv layer\n",
    "                        normalizer_params=batch_norm_params):\n",
    "        # stage 0\n",
    "        net0 = slim.conv2d(images, 16, [3, 3], scope='conv0_stage0')\n",
    "        net0 = slim.conv2d(net0, 16, [3, 3], scope='conv1_stage0')\n",
    "        net0 = slim.conv2d(net0, 16, [3, 3], rate=2, scope='conv2_stage0')\n",
    "        net0 = slim.max_pool2d(net0, [2, 2], scope='pool0_stage0')\n",
    "\n",
    "        net0 = slim.conv2d(net0, 32, [3, 3], scope='conv3_stage0')\n",
    "        net0 = slim.conv2d(net0, 32, [3, 3], scope='conv4_stage0')\n",
    "        net0 = slim.conv2d(net0, 32, [3, 3], rate=2, scope='conv5_stage0')\n",
    "        net0 = slim.max_pool2d(net0, [2, 2], scope='pool1_stage0')\n",
    "\n",
    "        net0 = slim.conv2d(net0, 64, [3, 3], scope='conv6_stage0')\n",
    "        net0 = slim.conv2d(net0, 64, [3, 3], scope='conv7_stage0')\n",
    "        net0 = slim.conv2d(net0, 64, [3, 3], rate=2, scope='conv8_stage0')\n",
    "        net0 = slim.max_pool2d(net0, [2, 2], scope='pool2_stage0')    \n",
    "\n",
    "        net0 = slim.conv2d(net0, 128, [3, 3], scope='conv9_stage0')\n",
    "        net0 = slim.conv2d(net0, 128, [3, 3], scope='conv10_stage0')\n",
    "        net0 = slim.conv2d(net0, 128, [3, 3], rate=2, scope='conv11_stage0')\n",
    "        net0 = slim.conv2d(net0, 128, [3, 3], rate=2, scope='conv12_stage0')\n",
    "        net0 = slim.conv2d(net0, 128, [1, 1], scope='fc0_stage0')\n",
    "        net0 = slim.conv2d(net0, pose_input.NUM_HEATMAPS, [1, 1], scope='fc1_stage0')\n",
    "\n",
    "        net1 = slim.conv2d(images, 16, [3, 3], scope='conv0_stage1')\n",
    "        net1 = slim.conv2d(net1, 16, [3, 3], scope='conv1_stage1')\n",
    "        net1 = slim.conv2d(net1, 16, [3, 3], rate=2, scope='conv2_stage1')\n",
    "        net1 = slim.max_pool2d(net1, [2, 2], scope='pool0_stage1')\n",
    "\n",
    "        net1 = slim.conv2d(net1, 32, [3, 3], scope='conv3_stage1')\n",
    "        net1 = slim.conv2d(net1, 32, [3, 3], scope='conv4_stage1')\n",
    "        net1 = slim.conv2d(net1, 32, [3, 3], rate=2, scope='conv5_stage1')\n",
    "        net1 = slim.max_pool2d(net1, [2, 2], scope='pool1_stage1')\n",
    "        \n",
    "        net1 = slim.conv2d(net1, 64, [3, 3], scope='conv6_stage1')\n",
    "        net1 = slim.conv2d(net1, 64, [3, 3], scope='conv7_stage1')\n",
    "        net1 = slim.conv2d(net1, 64, [3, 3], rate=2, scope='conv8_stage1')\n",
    "        net1 = slim.max_pool2d(net1, [2, 2], scope='pool2_stage1')\n",
    "        \n",
    "        net1 = slim.conv2d(net1, 128, [3, 3], scope='conv9_stage1')\n",
    "        net1_conv10 = slim.conv2d(net1, 32, [3, 3], scope='conv10_stage1')\n",
    "        \n",
    "        net1 = tf.concat(3,[net1_conv10,net0])\n",
    "        net1 = slim.conv2d(net1, 128, [3, 3], scope='conv11_stage1')\n",
    "        net1 = slim.conv2d(net1, 128, [3, 3], scope='conv12_stage1')\n",
    "        net1 = slim.conv2d(net1, 128, [3, 3], rate=2, scope='conv13_stage1')\n",
    "        net1 = slim.conv2d(net1, 128, [3, 3], rate=4, scope='conv14_stage1')\n",
    "        net1 = slim.conv2d(net1, 128, [3, 3], rate=8, scope='conv15_stage1')\n",
    "        net1 = slim.conv2d(net1, 128, [1, 1], scope='fc0_stage1')\n",
    "        net1 = slim.conv2d(net1, pose_input.NUM_HEATMAPS, [1, 1], scope='fc1_stage1')\n",
    "        \n",
    "    return net0,net1\n",
    "\n",
    "def loss(heatmaps_stage0, heatmaps_stage1, labels):\n",
    "    \"\"\"Add L2Loss to all the trainable variables.\n",
    "    Add summary for \"Loss\" and \"Loss/avg\".\n",
    "    Args:\n",
    "        logits: Logits from inference().\n",
    "        labels: Labels from distorted_inputs or inputs().\n",
    "    Returns:\n",
    "        Loss tensor of type float.\n",
    "    \"\"\"\n",
    "    # labels0 contain heatmaps that include other people's joints\n",
    "    # They are used for training local detectors\n",
    "    # labels1 contain heatmaps that only include self joints\n",
    "    # They are used for contextual stages of training\n",
    "    resized_labels = tf.image.resize_images(labels,[LABEL_SIZE,LABEL_SIZE])\n",
    "    labels1,labels0 = tf.split(3, 2, resized_labels)\n",
    "    error0 = slim.losses.mean_squared_error(heatmaps_stage0, labels0)\n",
    "    slim.losses.add_loss(error0)\n",
    "    error1 = slim.losses.mean_squared_error(heatmaps_stage1, labels1)\n",
    "    slim.losses.add_loss(error1)\n",
    "    # The total loss is defined as the Euclidean loss plus all of the weight\n",
    "    # decay terms (L2 loss).\n",
    "    return slim.losses.get_total_loss()\n"
   ]
  },
  {
   "cell_type": "code",
   "execution_count": 3,
   "metadata": {
    "collapsed": false
   },
   "outputs": [
    {
     "name": "stdout",
     "output_type": "stream",
     "text": [
      "Filling queue with 400 images before starting to train. This will take a few minutes.\n"
     ]
    }
   ],
   "source": [
    "# DIRECTORY = '/Users/xuehan.xiong/Google Drive/datasets/human_pose'\n",
    "# TFRECORD_FILE = os.path.join(DIRECTORY, 'pose_small.tfrecords')\n",
    "\n",
    "# file_path = os.path.join(DIRECTORY,TFRECORD_FILE)\n",
    "# images,labels = pose_input.distorted_inputs([file_path],32,1000)\n",
    "# heatmaps0,heatmaps1 = inference(images,0.0)\n",
    "# heatmap_loss = loss(heatmaps0, heatmaps1, labels)\n",
    "# init = tf.initialize_all_variables()\n",
    "\n",
    "# sess = tf.InteractiveSession()\n",
    "# sess.run(init)\n",
    "# # Start the queue runners.\n",
    "# tf.train.start_queue_runners(sess=sess)\n",
    "# loss_val = sess.run(heatmap_loss)\n"
   ]
  },
  {
   "cell_type": "code",
   "execution_count": 4,
   "metadata": {
    "collapsed": false
   },
   "outputs": [
    {
     "name": "stdout",
     "output_type": "stream",
     "text": [
      "1.63367\n"
     ]
    }
   ],
   "source": [
    "# print loss_val"
   ]
  },
  {
   "cell_type": "code",
   "execution_count": null,
   "metadata": {
    "collapsed": true
   },
   "outputs": [],
   "source": []
  }
 ],
 "metadata": {
  "kernelspec": {
   "display_name": "Python 2",
   "language": "python",
   "name": "python2"
  },
  "language_info": {
   "codemirror_mode": {
    "name": "ipython",
    "version": 2
   },
   "file_extension": ".py",
   "mimetype": "text/x-python",
   "name": "python",
   "nbconvert_exporter": "python",
   "pygments_lexer": "ipython2",
   "version": "2.7.12"
  }
 },
 "nbformat": 4,
 "nbformat_minor": 1
}
