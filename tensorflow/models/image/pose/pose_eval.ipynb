{
 "cells": [
  {
   "cell_type": "code",
   "execution_count": 1,
   "metadata": {
    "collapsed": false
   },
   "outputs": [
    {
     "name": "stderr",
     "output_type": "stream",
     "text": [
      "/usr/local/lib/python2.7/site-packages/matplotlib/font_manager.py:273: UserWarning: Matplotlib is building the font cache using fc-list. This may take a moment.\n",
      "  warnings.warn('Matplotlib is building the font cache using fc-list. This may take a moment.')\n"
     ]
    }
   ],
   "source": [
    "import tensorflow as tf\n",
    "import os\n",
    "import math\n",
    "from datetime import datetime\n",
    "import time\n",
    "import numpy as np\n",
    "import pose_input\n",
    "import pose_model\n",
    "import cv2\n",
    "slim = tf.contrib.slim"
   ]
  },
  {
   "cell_type": "code",
   "execution_count": 2,
   "metadata": {
    "collapsed": false
   },
   "outputs": [],
   "source": [
    "FLAGS = tf.app.flags.FLAGS\n",
    "\n",
    "tf.app.flags.DEFINE_string('tfrecord_path', '/Users/xuehan.xiong/Google Drive/datasets/human_pose/MPI_test.tfrecords',\n",
    "                           \"\"\"Path to TF records.\"\"\")\n",
    "tf.app.flags.DEFINE_string('checkpoint_dir', '/tmp/pose_train/',\n",
    "                           \"\"\"Directory where to load checkpoints.\"\"\")\n",
    "tf.app.flags.DEFINE_string('log_dir', '/tmp/pose_eval',\n",
    "                           \"\"\"Directory where to write event logs \"\"\")\n",
    "tf.app.flags.DEFINE_integer('batch_size', 16,\n",
    "                            \"\"\"Batch size.\"\"\")\n",
    "tf.app.flags.DEFINE_integer('eval_interval_secs', 120,\n",
    "                            \"\"\"The minimum number of seconds between evaluations.\"\"\")\n",
    "NUM_TEST_SAMPLES = 2500\n",
    "NUM_EVAL=int(math.ceil(float(NUM_TEST_SAMPLES)/float(FLAGS.batch_size)))\n",
    "num_heatmaps = pose_input.NUM_HEATMAPS"
   ]
  },
  {
   "cell_type": "code",
   "execution_count": 5,
   "metadata": {
    "collapsed": false
   },
   "outputs": [
    {
     "name": "stdout",
     "output_type": "stream",
     "text": [
      "Filling queue with 125 images before starting to train. This will take a few minutes.\n"
     ]
    }
   ],
   "source": [
    "with tf.Graph().as_default():\n",
    "    images, labels = pose_input.distorted_inputs(\n",
    "            [FLAGS.tfrecord_path],\n",
    "            FLAGS.batch_size,\n",
    "            NUM_TEST_SAMPLES)\n",
    "    heatmaps = pose_model.inference(images,0.0)\n",
    "    heatmaps = tf.sigmoid(heatmaps)\n",
    "    labels0,labels1 = tf.split(3, 2, labels)\n",
    "    resized_labels = tf.image.resize_images(labels1,\n",
    "                                            [pose_model.LABEL_SIZE,pose_model.LABEL_SIZE])\n",
    "    \n",
    "    mean_iou,update_op = \n",
    "        slim.metrics.streaming_mean_squared_error(labels1,resized_labels)    \n",
    "    iou = slim.evaluation.evaluation_loop(\n",
    "        '',\n",
    "        FLAGS.checkpoint_dir,\n",
    "        FLAGS.log_dir,\n",
    "        num_evals=NUM_EVAL,\n",
    "        eval_op=update_op,\n",
    "        final_op=mean_iou,\n",
    "        eval_interval_secs=FLAGS.eval_interval_secs)"
   ]
  },
  {
   "cell_type": "code",
   "execution_count": 6,
   "metadata": {
    "collapsed": false
   },
   "outputs": [
    {
     "name": "stdout",
     "output_type": "stream",
     "text": [
      "Filling queue with 3198 images before starting to train. This will take a few minutes.\n"
     ]
    },
    {
     "name": "stderr",
     "output_type": "stream",
     "text": [
      "INFO:tensorflow:Waiting for new checkpoint at segmentation_train\n",
      "INFO:tensorflow:Found new checkpoint at segmentation_train/model.ckpt-3000\n",
      "INFO:tensorflow:Starting evaluation at 2016-10-13-21:58:59\n",
      "INFO:tensorflow:Executing eval ops\n",
      "INFO:tensorflow:Executing eval_op 1/10\n",
      "INFO:tensorflow:Executing eval_op 2/10\n",
      "INFO:tensorflow:Executing eval_op 3/10\n",
      "INFO:tensorflow:Executing eval_op 4/10\n",
      "INFO:tensorflow:Executing eval_op 5/10\n",
      "INFO:tensorflow:Executing eval_op 6/10\n",
      "INFO:tensorflow:Executing eval_op 7/10\n",
      "INFO:tensorflow:Executing eval_op 8/10\n",
      "INFO:tensorflow:Executing eval_op 9/10\n",
      "INFO:tensorflow:Executing eval_op 10/10\n",
      "INFO:tensorflow:Executing final op\n",
      "INFO:tensorflow:Executing summary op\n",
      "INFO:tensorflow:metric has value 0.530059\n",
      "INFO:tensorflow:test\n",
      "INFO:tensorflow:Finished evaluation at 2016-10-13-21:59:04\n"
     ]
    },
    {
     "ename": "KeyboardInterrupt",
     "evalue": "",
     "output_type": "error",
     "traceback": [
      "\u001b[0;31m---------------------------------------------------------------------------\u001b[0m",
      "\u001b[0;31mKeyboardInterrupt\u001b[0m                         Traceback (most recent call last)",
      "\u001b[0;32m<ipython-input-6-c0b2bd94b2db>\u001b[0m in \u001b[0;36m<module>\u001b[0;34m()\u001b[0m\n\u001b[1;32m      3\u001b[0m \u001b[0mtf\u001b[0m\u001b[0;34m.\u001b[0m\u001b[0mgfile\u001b[0m\u001b[0;34m.\u001b[0m\u001b[0mMakeDirs\u001b[0m\u001b[0;34m(\u001b[0m\u001b[0mFLAGS\u001b[0m\u001b[0;34m.\u001b[0m\u001b[0mlog_dir\u001b[0m\u001b[0;34m)\u001b[0m\u001b[0;34m\u001b[0m\u001b[0m\n\u001b[1;32m      4\u001b[0m \u001b[0mtf\u001b[0m\u001b[0;34m.\u001b[0m\u001b[0mlogging\u001b[0m\u001b[0;34m.\u001b[0m\u001b[0mset_verbosity\u001b[0m\u001b[0;34m(\u001b[0m\u001b[0mtf\u001b[0m\u001b[0;34m.\u001b[0m\u001b[0mlogging\u001b[0m\u001b[0;34m.\u001b[0m\u001b[0mINFO\u001b[0m\u001b[0;34m)\u001b[0m\u001b[0;34m\u001b[0m\u001b[0m\n\u001b[0;32m----> 5\u001b[0;31m \u001b[0mevaluate\u001b[0m\u001b[0;34m(\u001b[0m\u001b[0;34m)\u001b[0m\u001b[0;34m\u001b[0m\u001b[0m\n\u001b[0m\u001b[1;32m      6\u001b[0m \u001b[0;34m\u001b[0m\u001b[0m\n",
      "\u001b[0;32m<ipython-input-5-1a4f78233d13>\u001b[0m in \u001b[0;36mevaluate\u001b[0;34m()\u001b[0m\n\u001b[1;32m     19\u001b[0m             \u001b[0meval_op\u001b[0m\u001b[0;34m=\u001b[0m\u001b[0mupdate_op\u001b[0m\u001b[0;34m,\u001b[0m\u001b[0;34m\u001b[0m\u001b[0m\n\u001b[1;32m     20\u001b[0m             \u001b[0mfinal_op\u001b[0m\u001b[0;34m=\u001b[0m\u001b[0mmean_iou\u001b[0m\u001b[0;34m,\u001b[0m\u001b[0;34m\u001b[0m\u001b[0m\n\u001b[0;32m---> 21\u001b[0;31m             max_number_of_evaluations=2)\n\u001b[0m\u001b[1;32m     22\u001b[0m         \u001b[0;32mprint\u001b[0m \u001b[0miou\u001b[0m\u001b[0;34m\u001b[0m\u001b[0m\n",
      "\u001b[0;32m/usr/local/lib/python2.7/site-packages/tensorflow/contrib/slim/python/slim/evaluation.pyc\u001b[0m in \u001b[0;36mevaluation_loop\u001b[0;34m(master, checkpoint_dir, logdir, num_evals, initial_op, initial_op_feed_dict, eval_op, eval_op_feed_dict, final_op, final_op_feed_dict, summary_op, summary_op_feed_dict, variables_to_restore, eval_interval_secs, max_number_of_evaluations, session_config)\u001b[0m\n\u001b[1;32m    430\u001b[0m   \u001b[0mnumber_of_evaluations\u001b[0m \u001b[0;34m=\u001b[0m \u001b[0;36m0\u001b[0m\u001b[0;34m\u001b[0m\u001b[0m\n\u001b[1;32m    431\u001b[0m   for checkpoint_path in checkpoints_iterator(checkpoint_dir,\n\u001b[0;32m--> 432\u001b[0;31m                                               eval_interval_secs):\n\u001b[0m\u001b[1;32m    433\u001b[0m     logging.info('Starting evaluation at ' + time.strftime('%Y-%m-%d-%H:%M:%S',\n\u001b[1;32m    434\u001b[0m                                                            time.gmtime()))\n",
      "\u001b[0;32m/usr/local/lib/python2.7/site-packages/tensorflow/contrib/slim/python/slim/evaluation.pyc\u001b[0m in \u001b[0;36mcheckpoints_iterator\u001b[0;34m(checkpoint_dir, min_interval_secs, timeout)\u001b[0m\n\u001b[1;32m    205\u001b[0m     \u001b[0mtime_to_next_eval\u001b[0m \u001b[0;34m=\u001b[0m \u001b[0mstart\u001b[0m \u001b[0;34m+\u001b[0m \u001b[0mmin_interval_secs\u001b[0m \u001b[0;34m-\u001b[0m \u001b[0mtime\u001b[0m\u001b[0;34m.\u001b[0m\u001b[0mtime\u001b[0m\u001b[0;34m(\u001b[0m\u001b[0;34m)\u001b[0m\u001b[0;34m\u001b[0m\u001b[0m\n\u001b[1;32m    206\u001b[0m     \u001b[0;32mif\u001b[0m \u001b[0mtime_to_next_eval\u001b[0m \u001b[0;34m>\u001b[0m \u001b[0;36m0\u001b[0m\u001b[0;34m:\u001b[0m\u001b[0;34m\u001b[0m\u001b[0m\n\u001b[0;32m--> 207\u001b[0;31m       \u001b[0mtime\u001b[0m\u001b[0;34m.\u001b[0m\u001b[0msleep\u001b[0m\u001b[0;34m(\u001b[0m\u001b[0mtime_to_next_eval\u001b[0m\u001b[0;34m)\u001b[0m\u001b[0;34m\u001b[0m\u001b[0m\n\u001b[0m\u001b[1;32m    208\u001b[0m \u001b[0;34m\u001b[0m\u001b[0m\n\u001b[1;32m    209\u001b[0m \u001b[0;34m\u001b[0m\u001b[0m\n",
      "\u001b[0;31mKeyboardInterrupt\u001b[0m: "
     ]
    }
   ],
   "source": [
    "def main(unused_args):\n",
    "    if tf.gfile.Exists(FLAGS.log_dir):\n",
    "        tf.gfile.DeleteRecursively(FLAGS.log_dir)\n",
    "    tf.gfile.MakeDirs(FLAGS.log_dir)\n",
    "    tf.logging.set_verbosity(tf.logging.INFO)\n",
    "    evaluate()\n",
    "    \n",
    "if __name__ == \"__main__\":\n",
    "    tf.app.run()"
   ]
  },
  {
   "cell_type": "code",
   "execution_count": null,
   "metadata": {
    "collapsed": true
   },
   "outputs": [],
   "source": []
  }
 ],
 "metadata": {
  "kernelspec": {
   "display_name": "Python 2",
   "language": "python",
   "name": "python2"
  },
  "language_info": {
   "codemirror_mode": {
    "name": "ipython",
    "version": 2
   },
   "file_extension": ".py",
   "mimetype": "text/x-python",
   "name": "python",
   "nbconvert_exporter": "python",
   "pygments_lexer": "ipython2",
   "version": "2.7.12"
  }
 },
 "nbformat": 4,
 "nbformat_minor": 1
}
